{
 "cells": [
  {
   "cell_type": "code",
   "execution_count": 1,
   "metadata": {},
   "outputs": [],
   "source": [
    "import selenium\n",
    "from selenium import webdriver as wb\n",
    "webD=wb.Chrome('chromedriver.exe')\n",
    "webD.get('https://www.magicbricks.com/property-for-sale/residential-real-estate?proptype=Multistorey-Apartment,Builder-Floor-Apartment,Penthouse,Studio-Apartment,Residential-House,Villa,Residential-Plot&cityName=Bangalore')"
   ]
  },
  {
   "cell_type": "markdown",
   "metadata": {},
   "source": [
    "# get url function to extract url"
   ]
  },
  {
   "cell_type": "code",
   "execution_count": 2,
   "metadata": {},
   "outputs": [],
   "source": [
    "def getURL(string):\n",
    "    from urlextract import URLExtract\n",
    "    extractor = URLExtract()\n",
    "    urls = extractor.find_urls(string)\n",
    "    x1=str(urls[0]).find(',')\n",
    "    return str(urls[0])[:x1-1]\n",
    "    "
   ]
  },
  {
   "cell_type": "code",
   "execution_count": 3,
   "metadata": {},
   "outputs": [],
   "source": [
    "propertyList=webD.find_elements_by_class_name('m-srp-card')"
   ]
  },
  {
   "cell_type": "code",
   "execution_count": 4,
   "metadata": {},
   "outputs": [],
   "source": [
    "urls=[]\n",
    "for i in propertyList:\n",
    "    urls.append(getURL(i.get_attribute('data-code')))"
   ]
  },
  {
   "cell_type": "code",
   "execution_count": null,
   "metadata": {},
   "outputs": [],
   "source": []
  },
  {
   "cell_type": "code",
   "execution_count": null,
   "metadata": {},
   "outputs": [],
   "source": []
  },
  {
   "cell_type": "code",
   "execution_count": null,
   "metadata": {},
   "outputs": [],
   "source": []
  },
  {
   "cell_type": "code",
   "execution_count": null,
   "metadata": {},
   "outputs": [],
   "source": []
  },
  {
   "cell_type": "code",
   "execution_count": null,
   "metadata": {},
   "outputs": [],
   "source": []
  },
  {
   "cell_type": "code",
   "execution_count": null,
   "metadata": {},
   "outputs": [],
   "source": []
  },
  {
   "cell_type": "markdown",
   "metadata": {},
   "source": [
    "# final loop"
   ]
  },
  {
   "cell_type": "code",
   "execution_count": 5,
   "metadata": {},
   "outputs": [
    {
     "name": "stderr",
     "output_type": "stream",
     "text": [
      "100%|██████████████████████████████████████████████████████████████████████████████████| 30/30 [01:13<00:00,  2.46s/it]\n"
     ]
    }
   ],
   "source": [
    "from tqdm import tqdm\n",
    "allDetails=[]\n",
    "for i in tqdm(urls):\n",
    "    #webD=wb.Chrome('chromedriver.exe')\n",
    "    webD.get(i)\n",
    "    data={\n",
    "    'Headline':webD.find_element_by_xpath('//*[@id=\"propertyDetailTabId\"]/div[3]/div[1]/div/div[1]/div[3]/h1/span[1]').text,\n",
    "    'Price':webD.find_element_by_xpath('//*[@id=\"priceSv\"]').text,\n",
    "    'Address':webD.find_element_by_xpath('//*[@id=\"propDetailDescriptionId\"]/div[2]/div/div[4]/div[2]').text,\n",
    "    'Bedrooms':webD.find_element_by_xpath('//*[@id=\"firstFoldDisplay\"]/div[1]/div[2]/div').text,\n",
    "    'Bathrooms':\"Nan\",\n",
    "    'Balcony':\"Nan\",\n",
    "    'Super Area':\"Nan\",\n",
    "    'Status':webD.find_element_by_xpath('//*[@id=\"fourthFoldDisplay\"]/div[1]/div[2]').text,\n",
    "    'Transaction Type':webD.find_element_by_xpath('//*[@id=\"fourthFoldDisplay\"]/div[2]/div[2]').text,\n",
    "    'Floor':\"Nan\",\n",
    "    'Car parking':\"Nan\",\n",
    "    'Furnished status':\"Nan\",\n",
    "    'Lifts':webD.find_element_by_xpath('//*[@id=\"detailsHighLight-id\"]/ul/li[3]').text,\n",
    "    'Description':\"Nan\",\n",
    "    'Price breakup':webD.find_element_by_xpath('//*[@id=\"propDetailDescriptionId\"]/div[2]/div/div[2]/div[2]').text,\n",
    "    'Landmarks':\"Nan\",\n",
    "    'Age of construction':\"Nan\",\n",
    "    'Price comparison':\"Nan\",\n",
    "    'Expected rent':\"Nan\",\n",
    "    'Monthly EMI':\"Nan\",\n",
    "    'Owner/Builder':\"Nan\"\n",
    "    }\n",
    "    allDetails.append(data)"
   ]
  },
  {
   "cell_type": "code",
   "execution_count": null,
   "metadata": {},
   "outputs": [],
   "source": []
  },
  {
   "cell_type": "code",
   "execution_count": null,
   "metadata": {},
   "outputs": [],
   "source": []
  },
  {
   "cell_type": "code",
   "execution_count": null,
   "metadata": {},
   "outputs": [],
   "source": []
  },
  {
   "cell_type": "code",
   "execution_count": null,
   "metadata": {},
   "outputs": [],
   "source": [
    "# csv formatt"
   ]
  }
 ],
 "metadata": {
  "kernelspec": {
   "display_name": "Python 3",
   "language": "python",
   "name": "python3"
  },
  "language_info": {
   "codemirror_mode": {
    "name": "ipython",
    "version": 3
   },
   "file_extension": ".py",
   "mimetype": "text/x-python",
   "name": "python",
   "nbconvert_exporter": "python",
   "pygments_lexer": "ipython3",
   "version": "3.8.3"
  }
 },
 "nbformat": 4,
 "nbformat_minor": 4
}
